{
 "cells": [
  {
   "cell_type": "code",
   "execution_count": 3,
   "id": "48f2a28a-99ef-4a5e-a561-edcac5151b06",
   "metadata": {},
   "outputs": [],
   "source": [
    "# Import necessary libraries\n",
    "import pandas as pd\n",
    "import matplotlib.pyplot as plt\n",
    "import seaborn as sns\n",
    "import plotly.express as px\n",
    "import plotly.graph_objects as go\n",
    "import os"
   ]
  },
  {
   "cell_type": "code",
   "execution_count": 3,
   "id": "90ef7d1a-72b7-4a46-bd8d-1166be46acaa",
   "metadata": {},
   "outputs": [],
   "source": [
    "# Define dataset file paths\n",
    "train_file = r\"C:\\Users\\emads\\OneDrive\\Desktop\\ADULT_PJ\\Adult\\adult.data\"\n",
    "test_file = r\"C:\\Users\\emads\\OneDrive\\Desktop\\ADULT_PJ\\Adult\\adult.test\""
   ]
  },
  {
   "cell_type": "code",
   "execution_count": 14,
   "id": "942dab57-fbf8-4d8e-aa18-60dec991c051",
   "metadata": {},
   "outputs": [],
   "source": [
    "# Verify files exist\n",
    "if not os.path.exists(train_file) or not os.path.exists(test_file):\n",
    "    raise FileNotFoundError(\"Dataset files not found. Check your file paths.\")\n"
   ]
  },
  {
   "cell_type": "code",
   "execution_count": null,
   "id": "9ab0cfc8-361a-4a7b-9d09-c8f817970268",
   "metadata": {},
   "outputs": [],
   "source": [
    "# Define column names\n",
    "columns = [\n",
    "    \"age\", \"workclass\", \"fnlwgt\", \"education\", \"education_num\",\n",
    "    \"marital_status\", \"occupation\", \"relationship\", \"race\", \"sex\",\n",
    "    \"capital_gain\", \"capital_loss\", \"hours_per_week\", \"native_country\", \"income\"\n",
    "]"
   ]
  },
  {
   "cell_type": "code",
   "execution_count": 2,
   "id": "4f1c3960-d5d8-48c5-a1b5-4f995fda82f5",
   "metadata": {},
   "outputs": [
    {
     "ename": "NameError",
     "evalue": "name 'pd' is not defined",
     "output_type": "error",
     "traceback": [
      "\u001b[1;31m---------------------------------------------------------------------------\u001b[0m",
      "\u001b[1;31mNameError\u001b[0m                                 Traceback (most recent call last)",
      "Cell \u001b[1;32mIn[2], line 2\u001b[0m\n\u001b[0;32m      1\u001b[0m \u001b[38;5;66;03m# Load datasets\u001b[39;00m\n\u001b[1;32m----> 2\u001b[0m df_train \u001b[38;5;241m=\u001b[39m \u001b[43mpd\u001b[49m\u001b[38;5;241m.\u001b[39mread_csv(train_file, names\u001b[38;5;241m=\u001b[39mcolumns, na_values\u001b[38;5;241m=\u001b[39m\u001b[38;5;124m\"\u001b[39m\u001b[38;5;124m ?\u001b[39m\u001b[38;5;124m\"\u001b[39m, skipinitialspace\u001b[38;5;241m=\u001b[39m\u001b[38;5;28;01mTrue\u001b[39;00m)\n\u001b[0;32m      3\u001b[0m df_test \u001b[38;5;241m=\u001b[39m pd\u001b[38;5;241m.\u001b[39mread_csv(test_file, names\u001b[38;5;241m=\u001b[39mcolumns, na_values\u001b[38;5;241m=\u001b[39m\u001b[38;5;124m\"\u001b[39m\u001b[38;5;124m ?\u001b[39m\u001b[38;5;124m\"\u001b[39m, skipinitialspace\u001b[38;5;241m=\u001b[39m\u001b[38;5;28;01mTrue\u001b[39;00m, skiprows\u001b[38;5;241m=\u001b[39m\u001b[38;5;241m1\u001b[39m)\n",
      "\u001b[1;31mNameError\u001b[0m: name 'pd' is not defined"
     ]
    }
   ],
   "source": [
    "# Load datasets\n",
    "df_train = pd.read_csv(train_file, names=columns, na_values=\" ?\", skipinitialspace=True)\n",
    "df_test = pd.read_csv(test_file, names=columns, na_values=\" ?\", skipinitialspace=True, skiprows=1)\n"
   ]
  },
  {
   "cell_type": "code",
   "execution_count": null,
   "id": "fea40737-fa95-4f75-97d7-0201eecd0049",
   "metadata": {},
   "outputs": [],
   "source": [
    "# Load the testing dataset (skip the first row as it contains headers in text)\n",
    "df_test = pd.read_csv(test_file, names=columns, na_values=\" ?\", skipinitialspace=True, skiprows=1)\n"
   ]
  },
  {
   "cell_type": "code",
   "execution_count": null,
   "id": "202d474e-1318-4454-993b-04cd2b661506",
   "metadata": {},
   "outputs": [],
   "source": [
    "# Combine both datasets\n",
    "df = pd.concat([df_train, df_test], ignore_index=True)"
   ]
  },
  {
   "cell_type": "code",
   "execution_count": null,
   "id": "b04e09cf-d240-4660-9782-0a7d4e4469bf",
   "metadata": {},
   "outputs": [],
   "source": [
    "# Clean data by dropping missing values\n",
    "df.dropna(inplace=True)"
   ]
  },
  {
   "cell_type": "code",
   "execution_count": null,
   "id": "ffb856ab-db09-4b0b-8f2f-4bdb530dc41f",
   "metadata": {},
   "outputs": [],
   "source": [
    "# Standardize income labels (some test data may have a period at the end)\n",
    "df[\"income\"] = df[\"income\"].str.replace(\".\", \"\", regex=False)"
   ]
  },
  {
   "cell_type": "code",
   "execution_count": null,
   "id": "544619e7-f67a-4bdf-b0a6-354d0bcaaecb",
   "metadata": {},
   "outputs": [],
   "source": [
    "# Create a directory to save visualizations\n",
    "viz_folder = \"visualizations\"\n",
    "os.makedirs(viz_folder, exist_ok=True)"
   ]
  },
  {
   "cell_type": "code",
   "execution_count": 1,
   "id": "731865e9-9634-4d2b-b13b-05ad31e07001",
   "metadata": {},
   "outputs": [
    {
     "ename": "NameError",
     "evalue": "name 'plt' is not defined",
     "output_type": "error",
     "traceback": [
      "\u001b[1;31m---------------------------------------------------------------------------\u001b[0m",
      "\u001b[1;31mNameError\u001b[0m                                 Traceback (most recent call last)",
      "Cell \u001b[1;32mIn[1], line 2\u001b[0m\n\u001b[0;32m      1\u001b[0m \u001b[38;5;66;03m### 📊 1. Income Distribution by Age\u001b[39;00m\n\u001b[1;32m----> 2\u001b[0m \u001b[43mplt\u001b[49m\u001b[38;5;241m.\u001b[39mfigure(figsize\u001b[38;5;241m=\u001b[39m(\u001b[38;5;241m8\u001b[39m, \u001b[38;5;241m5\u001b[39m))\n\u001b[0;32m      3\u001b[0m sns\u001b[38;5;241m.\u001b[39mhistplot(data\u001b[38;5;241m=\u001b[39mdf, x\u001b[38;5;241m=\u001b[39m\u001b[38;5;124m\"\u001b[39m\u001b[38;5;124mage\u001b[39m\u001b[38;5;124m\"\u001b[39m, hue\u001b[38;5;241m=\u001b[39m\u001b[38;5;124m\"\u001b[39m\u001b[38;5;124mincome\u001b[39m\u001b[38;5;124m\"\u001b[39m, kde\u001b[38;5;241m=\u001b[39m\u001b[38;5;28;01mTrue\u001b[39;00m, bins\u001b[38;5;241m=\u001b[39m\u001b[38;5;241m30\u001b[39m)\n\u001b[0;32m      4\u001b[0m plt\u001b[38;5;241m.\u001b[39mtitle(\u001b[38;5;124m\"\u001b[39m\u001b[38;5;124mIncome Distribution by Age\u001b[39m\u001b[38;5;124m\"\u001b[39m)\n",
      "\u001b[1;31mNameError\u001b[0m: name 'plt' is not defined"
     ]
    }
   ],
   "source": [
    "### 📊 1. Income Distribution by Age\n",
    "plt.figure(figsize=(8, 5))\n",
    "sns.histplot(data=df, x=\"age\", hue=\"income\", kde=True, bins=30)\n",
    "plt.title(\"Income Distribution by Age\")\n",
    "plt.savefig(f\"{viz_folder}/income_distribution_by_age.png\")  # Save figure\n",
    "plt.show()"
   ]
  },
  {
   "cell_type": "code",
   "execution_count": null,
   "id": "4f1ddc64-0ce4-4141-a1b2-39a4c4bfd646",
   "metadata": {},
   "outputs": [],
   "source": [
    "# 2. Income by Workclass\n",
    "plt.figure(figsize=(10, 5))\n",
    "sns.countplot(data=df, x=\"workclass\", hue=\"income\", order=df[\"workclass\"].value_counts().index)\n",
    "plt.title(\"Income by Workclass\")\n",
    "plt.xticks(rotation=90)\n",
    "plt.savefig(f\"{viz_folder}/income_by_workclass.png\")\n",
    "plt.show()\n",
    "plt.close()"
   ]
  },
  {
   "cell_type": "code",
   "execution_count": null,
   "id": "2821da0f-7e92-4cc7-848d-0c405f6a135c",
   "metadata": {},
   "outputs": [],
   "source": [
    "# 3. Income vs. Hours Worked Per Week\n",
    "plt.figure(figsize=(8, 5))\n",
    "sns.boxplot(data=df, x=\"income\", y=\"hours_per_week\")\n",
    "plt.title(\"Income vs. Hours Worked Per Week\")\n",
    "plt.savefig(f\"{viz_folder}/income_vs_hours_worked.png\")\n",
    "plt.show()\n",
    "plt.close()"
   ]
  },
  {
   "cell_type": "code",
   "execution_count": null,
   "id": "9378973e-11ae-44ff-97df-dc8fb3a2dcf7",
   "metadata": {},
   "outputs": [],
   "source": [
    "# 4. Scatter Plot: Age vs. Hours Worked per Week (Interactive)\n",
    "fig = px.scatter(df, x='age', y='hours_per_week', color='income', \n",
    "                 title='Age vs. Hours Worked Per Week (Interactive)',\n",
    "                 labels={'age': 'Age', 'hours_per_week': 'Hours Worked Per Week'})\n",
    "fig.write_html(f\"{viz_folder}/age_vs_hours_worked.html\")  # Save interactive plot\n",
    "fig.show()\n"
   ]
  },
  {
   "cell_type": "code",
   "execution_count": null,
   "id": "d44d93d1-f9d7-4bde-9fb2-39cacf80e961",
   "metadata": {},
   "outputs": [],
   "source": [
    "# 5. Hours Worked Per Week by Education Level (Interactive)\n",
    "fig = px.box(df, x='education', y='hours_per_week', color='income', \n",
    "             title='Hours Worked Per Week by Education Level', \n",
    "             labels={'education': 'Education Level', 'hours_per_week': 'Hours Worked Per Week'}, \n",
    "             height=700, width=1200)\n",
    "fig.write_html(f\"{viz_folder}/hours_by_education.html\")  # Save interactive plot\n",
    "fig.show()"
   ]
  },
  {
   "cell_type": "code",
   "execution_count": null,
   "id": "a6e6c9da-419b-4fb6-a067-dee51e6921a1",
   "metadata": {},
   "outputs": [],
   "source": [
    "# 6. Heatmap: Correlation Matrix of Numeric Features\n",
    "plt.figure(figsize=(10, 6))\n",
    "sns.heatmap(df.corr(), annot=True, cmap='coolwarm', fmt='.2f')\n",
    "plt.title(\"Correlation Matrix of Numeric Features\")\n",
    "plt.savefig(f\"{viz_folder}/correlation_matrix.png\")\n",
    "plt.show()\n",
    "plt.close()"
   ]
  },
  {
   "cell_type": "code",
   "execution_count": null,
   "id": "c4159bd6-cb24-4bc8-9f06-c2088030dc59",
   "metadata": {},
   "outputs": [],
   "source": [
    "# 7. Pie Chart: Distribution of Income Levels (Interactive)\n",
    "fig = px.pie(df, names='income', title='Income Level Distribution')\n",
    "fig.write_html(f\"{viz_folder}/income_pie_chart.html\")  # Save interactive plot\n",
    "fig.show()\n"
   ]
  },
  {
   "cell_type": "code",
   "execution_count": null,
   "id": "258545fd-0c61-4628-bcae-cdcbf8ec282c",
   "metadata": {},
   "outputs": [],
   "source": [
    "print(\" All visualizations have been saved and displayed successfully.\")"
   ]
  },
  {
   "cell_type": "code",
   "execution_count": null,
   "id": "e070d994-6cb8-4f4e-bf61-909afaec6405",
   "metadata": {},
   "outputs": [],
   "source": []
  }
 ],
 "metadata": {
  "kernelspec": {
   "display_name": "Python 3 (ipykernel)",
   "language": "python",
   "name": "python3"
  },
  "language_info": {
   "codemirror_mode": {
    "name": "ipython",
    "version": 3
   },
   "file_extension": ".py",
   "mimetype": "text/x-python",
   "name": "python",
   "nbconvert_exporter": "python",
   "pygments_lexer": "ipython3",
   "version": "3.12.0"
  }
 },
 "nbformat": 4,
 "nbformat_minor": 5
}
